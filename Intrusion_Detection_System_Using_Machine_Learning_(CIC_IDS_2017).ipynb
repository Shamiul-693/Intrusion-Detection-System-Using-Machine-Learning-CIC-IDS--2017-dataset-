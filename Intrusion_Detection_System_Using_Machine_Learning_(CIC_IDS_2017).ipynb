{
  "nbformat": 4,
  "nbformat_minor": 0,
  "metadata": {
    "colab": {
      "provenance": [],
      "mount_file_id": "1wyZHG6MJNDdp9sHVDniuUgxj_E_hI8Hi",
      "authorship_tag": "ABX9TyOfqWeMECjzTFETE3aDv3ND",
      "include_colab_link": true
    },
    "kernelspec": {
      "name": "python3",
      "display_name": "Python 3"
    },
    "language_info": {
      "name": "python"
    }
  },
  "cells": [
    {
      "cell_type": "markdown",
      "metadata": {
        "id": "view-in-github",
        "colab_type": "text"
      },
      "source": [
        "<a href=\"https://colab.research.google.com/github/Shamiul-693/Intrusion-Detection-System-Using-Machine-Learning-CIC-IDS--2017-dataset-/blob/main/Intrusion_Detection_System_Using_Machine_Learning_(CIC_IDS_2017).ipynb\" target=\"_parent\"><img src=\"https://colab.research.google.com/assets/colab-badge.svg\" alt=\"Open In Colab\"/></a>"
      ]
    },
    {
      "cell_type": "code",
      "source": [],
      "metadata": {
        "id": "a0BQdt4-14Ap"
      },
      "execution_count": null,
      "outputs": []
    },
    {
      "cell_type": "code",
      "execution_count": 1,
      "metadata": {
        "id": "ULEpyXmpzc65"
      },
      "outputs": [],
      "source": [
        "import pandas as pd\n",
        "import numpy as np\n",
        "# tensorflow\n",
        "from tensorflow.keras.models import Model, Sequential\n",
        "from tensorflow.keras.layers import Input, Dense, Dropout, Embedding, Flatten, Concatenate, BatchNormalization\n",
        "from tensorflow.keras.callbacks import EarlyStopping\n",
        "from tensorflow.keras.optimizers import Adam\n",
        "# sklearn\n",
        "from sklearn.model_selection import train_test_split\n",
        "from sklearn.preprocessing import LabelEncoder, StandardScaler\n",
        "from sklearn.feature_selection import SelectKBest, f_classif\n",
        "from sklearn.metrics import mean_squared_error, r2_score\n",
        "from sklearn.linear_model import LinearRegression"
      ]
    },
    {
      "cell_type": "code",
      "source": [
        "Friday_WorkingHours_Afternoon_DDos            = pd.read_csv(\"/content/drive/MyDrive/Intrusion Detection System Using  Machine Learning   Network Intrusion dataset(CIC-IDS- 2017)/data/Friday-WorkingHours-Afternoon-DDos.pcap_ISCX.csv\")\n",
        "Friday_WorkingHours_Afternoon_PortScan        = pd.read_csv(\"/content/drive/MyDrive/Intrusion Detection System Using  Machine Learning   Network Intrusion dataset(CIC-IDS- 2017)/data/Friday-WorkingHours-Afternoon-PortScan.pcap_ISCX.csv\")\n",
        "Friday_WorkingHours_Morning                   = pd.read_csv(\"/content/drive/MyDrive/Intrusion Detection System Using  Machine Learning   Network Intrusion dataset(CIC-IDS- 2017)/data/Friday-WorkingHours-Morning.pcap_ISCX.csv\")\n",
        "Monday_WorkingHours                           = pd.read_csv(\"/content/drive/MyDrive/Intrusion Detection System Using  Machine Learning   Network Intrusion dataset(CIC-IDS- 2017)/data/Monday-WorkingHours.pcap_ISCX.csv\")\n",
        "Thursday_WorkingHours_Afternoon_Infilteration = pd.read_csv(\"/content/drive/MyDrive/Intrusion Detection System Using  Machine Learning   Network Intrusion dataset(CIC-IDS- 2017)/data/Thursday-WorkingHours-Afternoon-Infilteration.pcap_ISCX.csv\")\n",
        "Thursday_WorkingHours_Morning_WebAttacks      = pd.read_csv(\"/content/drive/MyDrive/Intrusion Detection System Using  Machine Learning   Network Intrusion dataset(CIC-IDS- 2017)/data/Thursday-WorkingHours-Morning-WebAttacks.pcap_ISCX.csv\")\n",
        "Tuesday_WorkingHours                          = pd.read_csv(\"/content/drive/MyDrive/Intrusion Detection System Using  Machine Learning   Network Intrusion dataset(CIC-IDS- 2017)/data/Tuesday-WorkingHours.pcap_ISCX.csv\")\n",
        "Wednesday_workingHours                        = pd.read_csv(\"/content/drive/MyDrive/Intrusion Detection System Using  Machine Learning   Network Intrusion dataset(CIC-IDS- 2017)/data/Wednesday-workingHours.pcap_ISCX.csv\")"
      ],
      "metadata": {
        "id": "-HyMlEQt1XPO"
      },
      "execution_count": 2,
      "outputs": []
    },
    {
      "cell_type": "code",
      "source": [
        "df = pd.concat(\n",
        "    [\n",
        "        Friday_WorkingHours_Afternoon_DDos,\n",
        "        Friday_WorkingHours_Afternoon_PortScan,\n",
        "        Friday_WorkingHours_Morning,\n",
        "        Monday_WorkingHours,\n",
        "        Thursday_WorkingHours_Afternoon_Infilteration,\n",
        "        Thursday_WorkingHours_Morning_WebAttacks,\n",
        "        Tuesday_WorkingHours,\n",
        "        Wednesday_workingHours\n",
        "    ],\n",
        "    axis=0\n",
        ")\n",
        "df.columns = Friday_WorkingHours_Afternoon_DDos.columns"
      ],
      "metadata": {
        "id": "mj8rmizt1XM7"
      },
      "execution_count": 3,
      "outputs": []
    },
    {
      "cell_type": "code",
      "source": [],
      "metadata": {
        "id": "4WFp1H7-1XD5"
      },
      "execution_count": null,
      "outputs": []
    }
  ]
}